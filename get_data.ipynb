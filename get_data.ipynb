{
 "cells": [
  {
   "cell_type": "code",
   "execution_count": 20,
   "id": "ac3907c6",
   "metadata": {},
   "outputs": [
    {
     "name": "stdout",
     "output_type": "stream",
     "text": [
      "The dotenv extension is already loaded. To reload it, use:\n",
      "  %reload_ext dotenv\n"
     ]
    }
   ],
   "source": [
    "%load_ext dotenv\n",
    "%dotenv\n",
    "%reload_ext dotenv"
   ]
  },
  {
   "cell_type": "code",
   "execution_count": 21,
   "id": "f7514e68",
   "metadata": {},
   "outputs": [],
   "source": [
    "import json\n",
    "import os\n",
    "from web3 import Web3"
   ]
  },
  {
   "cell_type": "code",
   "execution_count": 22,
   "id": "751d30aa",
   "metadata": {},
   "outputs": [
    {
     "data": {
      "text/plain": [
       "True"
      ]
     },
     "execution_count": 22,
     "metadata": {},
     "output_type": "execute_result"
    }
   ],
   "source": [
    "w3 = Web3(Web3.HTTPProvider(os.environ['GOERLI_RPC']))\n",
    "w3.isConnected()"
   ]
  },
  {
   "cell_type": "code",
   "execution_count": 23,
   "id": "7ded1aba",
   "metadata": {},
   "outputs": [],
   "source": [
    "CONTRACT_POOL = \"0xAf593430b86a0560818a9dF5858B14dDC469Ab98\";"
   ]
  },
  {
   "cell_type": "code",
   "execution_count": 24,
   "id": "75981b11",
   "metadata": {},
   "outputs": [
    {
     "data": {
      "text/plain": [
       "'0x0eDb1483320DbdA0C804C1F5673F1733382e37E7'"
      ]
     },
     "execution_count": 24,
     "metadata": {},
     "output_type": "execute_result"
    }
   ],
   "source": [
    "f = open(\"abi/Pool.json\")\n",
    "data = json.load(f)\n",
    "pool = w3.eth.contract(address=CONTRACT_POOL, abi=data[\"abi\"])\n",
    "\n",
    "pool.functions.dnft().call()"
   ]
  }
 ],
 "metadata": {
  "kernelspec": {
   "display_name": "Python 3 (ipykernel)",
   "language": "python",
   "name": "python3"
  },
  "language_info": {
   "codemirror_mode": {
    "name": "ipython",
    "version": 3
   },
   "file_extension": ".py",
   "mimetype": "text/x-python",
   "name": "python",
   "nbconvert_exporter": "python",
   "pygments_lexer": "ipython3",
   "version": "3.8.9"
  }
 },
 "nbformat": 4,
 "nbformat_minor": 5
}
