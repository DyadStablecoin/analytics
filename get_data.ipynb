{
 "cells": [
  {
   "cell_type": "code",
   "execution_count": 1,
   "id": "ac3907c6",
   "metadata": {},
   "outputs": [],
   "source": [
    "%load_ext dotenv\n",
    "%dotenv"
   ]
  },
  {
   "cell_type": "code",
   "execution_count": 2,
   "id": "f7514e68",
   "metadata": {},
   "outputs": [],
   "source": [
    "import json\n",
    "import os\n",
    "import requests\n",
    "from web3 import Web3"
   ]
  },
  {
   "cell_type": "code",
   "execution_count": 3,
   "id": "751d30aa",
   "metadata": {},
   "outputs": [
    {
     "data": {
      "text/plain": [
       "True"
      ]
     },
     "execution_count": 3,
     "metadata": {},
     "output_type": "execute_result"
    }
   ],
   "source": [
    "w3 = Web3(Web3.HTTPProvider(os.environ['GOERLI_RPC']))\n",
    "w3.isConnected()"
   ]
  },
  {
   "cell_type": "code",
   "execution_count": 4,
   "id": "7ded1aba",
   "metadata": {},
   "outputs": [],
   "source": [
    "CONTRACT_POOL = \"0xAf593430b86a0560818a9dF5858B14dDC469Ab98\";\n",
    "CONTRACT_dNFT = \"0x0eDb1483320DbdA0C804C1F5673F1733382e37E7\";"
   ]
  },
  {
   "cell_type": "code",
   "execution_count": 5,
   "id": "6a776a47",
   "metadata": {},
   "outputs": [],
   "source": [
    "pool = w3.eth.contract(address=CONTRACT_POOL, abi=json.load(open(\"abi/Pool.json\"))[\"abi\"])\n",
    "dnft = w3.eth.contract(address=CONTRACT_dNFT, abi=json.load(open(\"abi/dNFT.json\"))[\"abi\"])"
   ]
  },
  {
   "cell_type": "code",
   "execution_count": 7,
   "id": "2e621917",
   "metadata": {},
   "outputs": [
    {
     "data": {
      "text/plain": [
       "'https://api-goerli.etherscan.io/api?module=account&action=txlist&address=0xAf593430b86a0560818a9dF5858B14dDC469Ab98&startblock=0&endblock=99999999&sort=asc&apikey=TECYJEKT36HQRFI9FA5GESVDQTQGUKJZPX'"
      ]
     },
     "execution_count": 7,
     "metadata": {},
     "output_type": "execute_result"
    }
   ],
   "source": [
    "INFURA_KEY = os.environ[\"ETHERSCAN_API\"]\n",
    "url = f\"https://api-goerli.etherscan.io/api?module=account&action=txlist&address={CONTRACT_POOL}&startblock=0&endblock=99999999&sort=asc&apikey={INFURA_KEY}\"\n",
    "url"
   ]
  },
  {
   "cell_type": "code",
   "execution_count": 8,
   "id": "6f309834",
   "metadata": {},
   "outputs": [],
   "source": [
    "r = requests.get(url=url)\n",
    "txs = r.json()['result']"
   ]
  },
  {
   "cell_type": "code",
   "execution_count": 9,
   "id": "9d9e3c12",
   "metadata": {},
   "outputs": [
    {
     "data": {
      "text/plain": [
       "[8095106, 8095157, 8099237, 8099246, 8099251]"
      ]
     },
     "execution_count": 9,
     "metadata": {},
     "output_type": "execute_result"
    }
   ],
   "source": [
    "blockNumbers = []\n",
    "for tx in txs:\n",
    "    if tx[\"functionName\"] == \"sync()\":\n",
    "        blockNumbers.append(int(tx[\"blockNumber\"]))\n",
    "blockNumbers"
   ]
  },
  {
   "cell_type": "code",
   "execution_count": null,
   "id": "4541dcb0",
   "metadata": {},
   "outputs": [],
   "source": [
    "nfts = []\n",
    "\n",
    "for blockNumber in blockNumbers:\n",
    "    print(f\"block: {blockNumber} / {len}\")\n",
    "    numberOfMints = dnft.functions.numberOfMints().call(block_identifier=blockNumber);\n",
    "    for i in range(numberOfMints):\n",
    "        if i % 10 == 0: print(f\"nft: {i} / {numberOfMints}\")\n",
    "        tokenId = dnft.functions.tokenByIndex(i) .call(block_identifier=blockNumber)\n",
    "        nft     = dnft.functions.idToNft(tokenId).call()\n",
    "\n",
    "        nfts.append({\"tokenId\": tokenId, \n",
    "                     \"blockNumber\": blockNumber, \n",
    "                     \"withdrawn\":nft[0],\n",
    "                     \"deposit\":nft[1],\n",
    "                     \"xp\":nft[2]})\n",
    "nfts"
   ]
  }
 ],
 "metadata": {
  "kernelspec": {
   "display_name": "Python 3 (ipykernel)",
   "language": "python",
   "name": "python3"
  },
  "language_info": {
   "codemirror_mode": {
    "name": "ipython",
    "version": 3
   },
   "file_extension": ".py",
   "mimetype": "text/x-python",
   "name": "python",
   "nbconvert_exporter": "python",
   "pygments_lexer": "ipython3",
   "version": "3.8.9"
  }
 },
 "nbformat": 4,
 "nbformat_minor": 5
}
